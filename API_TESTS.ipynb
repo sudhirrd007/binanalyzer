{
 "cells": [
  {
   "cell_type": "code",
   "execution_count": 13,
   "metadata": {},
   "outputs": [
    {
     "name": "stdout",
     "output_type": "stream",
     "text": [
      "ETH\n"
     ]
    }
   ],
   "source": [
    "from pydantic import validate_arguments, ValidationError, validate_call\n",
    "\n",
    "class Coin:\n",
    "    def __init__(self, coin_name: str):\n",
    "        self._symbol: str = coin_name\n",
    "        self._stats_obj = None\n",
    "\n",
    "    @property\n",
    "    def symbol(self):\n",
    "        return self._symbol\n",
    "\n",
    "    @validate_call\n",
    "    def set_symbol(self, value: str):\n",
    "        self._symbol = value\n",
    "\n",
    "    @symbol.setter\n",
    "    def symbol(self, value):\n",
    "        try:\n",
    "            self.set_symbol(value)\n",
    "        except ValidationError as e:\n",
    "            raise ValueError(f\"Invalid value for symbol: {e}\")\n",
    "\n",
    "# Usage\n",
    "coin = Coin(\"BTC\")\n",
    "\n",
    "# Valid update\n",
    "coin.symbol = \"ETH\"\n",
    "print(coin.symbol)  # Output: ETH\n",
    "\n",
    "# Invalid update\n",
    "try:\n",
    "    coin.symbol = \"OOO\"\n",
    "except ValueError as e:\n",
    "    print(e)  # Output: Invalid value for symbol: 1 validation error for SetSymbol -> value str type expected (type=type_error.str)"
   ]
  },
  {
   "cell_type": "code",
   "execution_count": 6,
   "metadata": {},
   "outputs": [
    {
     "data": {
      "text/plain": [
       "'OOO'"
      ]
     },
     "execution_count": 6,
     "metadata": {},
     "output_type": "execute_result"
    }
   ],
   "source": [
    "coin.symbol"
   ]
  },
  {
   "cell_type": "code",
   "execution_count": null,
   "metadata": {},
   "outputs": [],
   "source": []
  },
  {
   "cell_type": "code",
   "execution_count": 51,
   "metadata": {},
   "outputs": [
    {
     "name": "stdout",
     "output_type": "stream",
     "text": [
      "Setting symbol BTC\n",
      "Setting symbol ETH\n",
      "ETH\n"
     ]
    }
   ],
   "source": [
    "from pydantic import validate_arguments, ValidationError, validate_call\n",
    "\n",
    "class Coin:\n",
    "    @validate_call\n",
    "    def __init__(self, coin_name: str):\n",
    "        self._symbol: str = self.set_symbol(coin_name)\n",
    "        self._stats_obj = None\n",
    "\n",
    "    @property\n",
    "    def symbol(self):\n",
    "        return self._symbol\n",
    "\n",
    "    @validate_call\n",
    "    def set_symbol(self, value: str):\n",
    "        print(\"Setting symbol\", value)\n",
    "        self._symbol = value\n",
    "\n",
    "    @symbol.setter\n",
    "    def symbol(self, value):\n",
    "        try:\n",
    "            self.set_symbol(value)\n",
    "        except ValidationError as e:\n",
    "            raise ValueError(f\"Invalid value for symbol: {e}\")\n",
    "\n",
    "# Usage\n",
    "coin = Coin('BTC')\n",
    "\n",
    "# Valid update\n",
    "coin.symbol = \"ETH\"\n",
    "print(coin.symbol)  # Output: ETH"
   ]
  },
  {
   "cell_type": "code",
   "execution_count": null,
   "metadata": {},
   "outputs": [],
   "source": []
  },
  {
   "cell_type": "code",
   "execution_count": 46,
   "metadata": {},
   "outputs": [
    {
     "name": "stdout",
     "output_type": "stream",
     "text": [
      "Setting symbol ETH\n",
      "Else\n",
      "Setting stats\n"
     ]
    }
   ],
   "source": [
    "from pydantic import validate_arguments, ValidationError, validate_call\n",
    "\n",
    "class Coin:\n",
    "    @validate_call\n",
    "    def __init__(self):\n",
    "        self._symbol: str = None\n",
    "        self._stats: str = None\n",
    "\n",
    "    @property\n",
    "    def symbol(self):\n",
    "        return self._symbol\n",
    "\n",
    "    @symbol.setter\n",
    "    @validate_call\n",
    "    def symbol(self, value):\n",
    "        print(\"Setting symbol\", value)\n",
    "        try:\n",
    "            if self._symbol is not None:\n",
    "                raise ValueError(\"Symbol already set. You have to create a new object for a different symbol.\")\n",
    "            else:\n",
    "                print(\"Else\")\n",
    "                self._symbol = value\n",
    "                self.__setattr__(\"stats\", \"\")\n",
    "        except ValidationError as e:\n",
    "            raise ValueError(f\"Invalid value for symbol: {e}\")\n",
    "\n",
    "    @property\n",
    "    def stats(self):\n",
    "        return self._stats\n",
    "\n",
    "    @stats.setter\n",
    "    @validate_call\n",
    "    def stats(self, value):\n",
    "        print(\"Setting stats\")\n",
    "        try:\n",
    "            self._stats = \"Hello World!\"\n",
    "        except ValidationError as e:\n",
    "            raise ValueError(f\"Invalid value for stats: {e}\")\n",
    "\n",
    "# Usage\n",
    "coin = Coin()\n",
    "\n",
    "# Valid update\n",
    "coin.symbol = \"ETH\"\n",
    "# coin.symbol = \"BTC\""
   ]
  },
  {
   "cell_type": "code",
   "execution_count": 43,
   "metadata": {},
   "outputs": [
    {
     "data": {
      "text/plain": [
       "'Hello World how you doing!'"
      ]
     },
     "execution_count": 43,
     "metadata": {},
     "output_type": "execute_result"
    }
   ],
   "source": [
    "coin.stats"
   ]
  },
  {
   "cell_type": "code",
   "execution_count": null,
   "metadata": {},
   "outputs": [],
   "source": []
  },
  {
   "cell_type": "code",
   "execution_count": 80,
   "metadata": {},
   "outputs": [
    {
     "name": "stdout",
     "output_type": "stream",
     "text": [
      "Setting symbol BTC\n",
      "83\n"
     ]
    }
   ],
   "source": [
    "from pydantic import validate_arguments, ValidationError, validate_call\n",
    "import random\n",
    "\n",
    "class Stats:\n",
    "    def __init__(self, symbol):\n",
    "        self.symbol: str = symbol\n",
    "        self.price: float = 0.0\n",
    "        self.refresh()\n",
    "\n",
    "    def refresh(self):\n",
    "        self.price = random.randint(1, 100)\n",
    "\n",
    "\n",
    "class Coin:\n",
    "    @validate_call\n",
    "    def __init__(self, coin_name: str):\n",
    "        self.symbol: str = self.set_symbol(coin_name)\n",
    "        self.stats_obj: Stats = Stats(self._symbol)\n",
    "\n",
    "    @validate_call\n",
    "    def set_symbol(self, value: str):\n",
    "        print(\"Setting symbol\", value)\n",
    "        self._symbol = value\n",
    "\n",
    "    def refresh_stats(self):\n",
    "        self.stats_obj.refresh()\n",
    "\n",
    "\n",
    "# Usage\n",
    "coin = Coin('BTC')\n",
    "\n",
    "# Valid update\n",
    "coin.symbol = \"ETH\"\n",
    "print(coin.stats_obj.price)  # Output: ETH"
   ]
  },
  {
   "cell_type": "code",
   "execution_count": 87,
   "metadata": {},
   "outputs": [
    {
     "name": "stdout",
     "output_type": "stream",
     "text": [
      "60\n"
     ]
    }
   ],
   "source": [
    "coin.stats_obj.refresh()\n",
    "print(coin.stats_obj.price)  # Output: ETH"
   ]
  },
  {
   "cell_type": "code",
   "execution_count": null,
   "metadata": {},
   "outputs": [],
   "source": []
  },
  {
   "cell_type": "code",
   "execution_count": 265,
   "metadata": {},
   "outputs": [
    {
     "name": "stdout",
     "output_type": "stream",
     "text": [
      "Stats object creating....\n",
      "Validating stats object\n",
      "symbol='BTC' price=23\n",
      "Stats object created....\n"
     ]
    },
    {
     "data": {
      "text/plain": [
       "Coin(symbol='ETH', stats_obj=Stats(symbol='BTC', price=23))"
      ]
     },
     "execution_count": 265,
     "metadata": {},
     "output_type": "execute_result"
    }
   ],
   "source": [
    "from pydantic import (\n",
    "    validate_arguments,\n",
    "    ValidationError,\n",
    "    validate_call,\n",
    "    BaseModel,\n",
    "    field_validator,\n",
    "    Field,\n",
    ")\n",
    "import random\n",
    "\n",
    "\n",
    "class Stats(BaseModel):\n",
    "    symbol: str\n",
    "    price: float = None\n",
    "\n",
    "    def __init__(self, **data):\n",
    "        super().__init__(**data)\n",
    "        self.refresh()\n",
    "\n",
    "    def refresh(self):\n",
    "        self.price = random.randint(1, 100)\n",
    "\n",
    "\n",
    "class Coin(BaseModel):\n",
    "    symbol: str\n",
    "    stats_obj: Stats | None = None\n",
    "\n",
    "    def __init__(self, **data):\n",
    "        super().__init__(**data)\n",
    "        self.stats_obj = Stats(symbol=self.symbol)\n",
    "\n",
    "    @field_validator(\"symbol\")\n",
    "    def validate_symbol(cls, value):\n",
    "        if value not in [\"BTC\", \"ETH\"]:\n",
    "            raise ValueError(\"Symbol must be BTC\")\n",
    "        return value\n",
    "\n",
    "    class Config:\n",
    "        validate_assignment = True\n",
    "\n",
    "    def refresh_stats(self):\n",
    "        self.stats_obj.refresh()\n",
    "\n",
    "\n",
    "# Usage\n",
    "coin = Coin(symbol=\"BTC\")\n",
    "\n",
    "# Valid update\n",
    "coin.symbol = \"ETH\"\n",
    "# print(coin.stats_obj.price)\n",
    "coin\n"
   ]
  },
  {
   "cell_type": "code",
   "execution_count": 244,
   "metadata": {},
   "outputs": [
    {
     "data": {
      "text/plain": [
       "72"
      ]
     },
     "execution_count": 244,
     "metadata": {},
     "output_type": "execute_result"
    }
   ],
   "source": [
    "coin.stats_obj.refresh()\n",
    "coin.stats_obj.price"
   ]
  },
  {
   "cell_type": "code",
   "execution_count": 262,
   "metadata": {},
   "outputs": [
    {
     "ename": "ValidationError",
     "evalue": "1 validation error for Coin\nsymbol\n  Value error, Symbol must be BTC [type=value_error, input_value='ETH5', input_type=str]\n    For further information visit https://errors.pydantic.dev/2.7/v/value_error",
     "output_type": "error",
     "traceback": [
      "\u001b[1;31m---------------------------------------------------------------------------\u001b[0m",
      "\u001b[1;31mValidationError\u001b[0m                           Traceback (most recent call last)",
      "Cell \u001b[1;32mIn[262], line 1\u001b[0m\n\u001b[1;32m----> 1\u001b[0m \u001b[43mcoin\u001b[49m\u001b[38;5;241;43m.\u001b[39;49m\u001b[43msymbol\u001b[49m \u001b[38;5;241m=\u001b[39m \u001b[38;5;124m\"\u001b[39m\u001b[38;5;124mETH5\u001b[39m\u001b[38;5;124m\"\u001b[39m\n",
      "File \u001b[1;32mc:\\ProgramData\\anaconda3\\Lib\\site-packages\\pydantic\\main.py:817\u001b[0m, in \u001b[0;36mBaseModel.__setattr__\u001b[1;34m(self, name, value)\u001b[0m\n\u001b[0;32m    815\u001b[0m     attr\u001b[38;5;241m.\u001b[39m\u001b[38;5;21m__set__\u001b[39m(\u001b[38;5;28mself\u001b[39m, value)\n\u001b[0;32m    816\u001b[0m \u001b[38;5;28;01melif\u001b[39;00m \u001b[38;5;28mself\u001b[39m\u001b[38;5;241m.\u001b[39mmodel_config\u001b[38;5;241m.\u001b[39mget(\u001b[38;5;124m'\u001b[39m\u001b[38;5;124mvalidate_assignment\u001b[39m\u001b[38;5;124m'\u001b[39m, \u001b[38;5;28;01mNone\u001b[39;00m):\n\u001b[1;32m--> 817\u001b[0m     \u001b[38;5;28mself\u001b[39m\u001b[38;5;241m.\u001b[39m__pydantic_validator__\u001b[38;5;241m.\u001b[39mvalidate_assignment(\u001b[38;5;28mself\u001b[39m, name, value)\n\u001b[0;32m    818\u001b[0m \u001b[38;5;28;01melif\u001b[39;00m \u001b[38;5;28mself\u001b[39m\u001b[38;5;241m.\u001b[39mmodel_config\u001b[38;5;241m.\u001b[39mget(\u001b[38;5;124m'\u001b[39m\u001b[38;5;124mextra\u001b[39m\u001b[38;5;124m'\u001b[39m) \u001b[38;5;241m!=\u001b[39m \u001b[38;5;124m'\u001b[39m\u001b[38;5;124mallow\u001b[39m\u001b[38;5;124m'\u001b[39m \u001b[38;5;129;01mand\u001b[39;00m name \u001b[38;5;129;01mnot\u001b[39;00m \u001b[38;5;129;01min\u001b[39;00m \u001b[38;5;28mself\u001b[39m\u001b[38;5;241m.\u001b[39mmodel_fields:\n\u001b[0;32m    819\u001b[0m     \u001b[38;5;66;03m# TODO - matching error\u001b[39;00m\n\u001b[0;32m    820\u001b[0m     \u001b[38;5;28;01mraise\u001b[39;00m \u001b[38;5;167;01mValueError\u001b[39;00m(\u001b[38;5;124mf\u001b[39m\u001b[38;5;124m'\u001b[39m\u001b[38;5;124m\"\u001b[39m\u001b[38;5;132;01m{\u001b[39;00m\u001b[38;5;28mself\u001b[39m\u001b[38;5;241m.\u001b[39m\u001b[38;5;18m__class__\u001b[39m\u001b[38;5;241m.\u001b[39m\u001b[38;5;18m__name__\u001b[39m\u001b[38;5;132;01m}\u001b[39;00m\u001b[38;5;124m\"\u001b[39m\u001b[38;5;124m object has no field \u001b[39m\u001b[38;5;124m\"\u001b[39m\u001b[38;5;132;01m{\u001b[39;00mname\u001b[38;5;132;01m}\u001b[39;00m\u001b[38;5;124m\"\u001b[39m\u001b[38;5;124m'\u001b[39m)\n",
      "\u001b[1;31mValidationError\u001b[0m: 1 validation error for Coin\nsymbol\n  Value error, Symbol must be BTC [type=value_error, input_value='ETH5', input_type=str]\n    For further information visit https://errors.pydantic.dev/2.7/v/value_error"
     ]
    }
   ],
   "source": [
    "coin.symbol = \"ETH5\""
   ]
  },
  {
   "cell_type": "code",
   "execution_count": 264,
   "metadata": {},
   "outputs": [
    {
     "ename": "ValidationError",
     "evalue": "1 validation error for Coin\nstats_obj\n  Input should be a valid dictionary or instance of Stats [type=model_type, input_value='hello', input_type=str]\n    For further information visit https://errors.pydantic.dev/2.7/v/model_type",
     "output_type": "error",
     "traceback": [
      "\u001b[1;31m---------------------------------------------------------------------------\u001b[0m",
      "\u001b[1;31mValidationError\u001b[0m                           Traceback (most recent call last)",
      "Cell \u001b[1;32mIn[264], line 1\u001b[0m\n\u001b[1;32m----> 1\u001b[0m \u001b[43mcoin\u001b[49m\u001b[38;5;241;43m.\u001b[39;49m\u001b[43mstats_obj\u001b[49m \u001b[38;5;241m=\u001b[39m \u001b[38;5;124m\"\u001b[39m\u001b[38;5;124mhello\u001b[39m\u001b[38;5;124m\"\u001b[39m\n",
      "File \u001b[1;32mc:\\ProgramData\\anaconda3\\Lib\\site-packages\\pydantic\\main.py:817\u001b[0m, in \u001b[0;36mBaseModel.__setattr__\u001b[1;34m(self, name, value)\u001b[0m\n\u001b[0;32m    815\u001b[0m     attr\u001b[38;5;241m.\u001b[39m\u001b[38;5;21m__set__\u001b[39m(\u001b[38;5;28mself\u001b[39m, value)\n\u001b[0;32m    816\u001b[0m \u001b[38;5;28;01melif\u001b[39;00m \u001b[38;5;28mself\u001b[39m\u001b[38;5;241m.\u001b[39mmodel_config\u001b[38;5;241m.\u001b[39mget(\u001b[38;5;124m'\u001b[39m\u001b[38;5;124mvalidate_assignment\u001b[39m\u001b[38;5;124m'\u001b[39m, \u001b[38;5;28;01mNone\u001b[39;00m):\n\u001b[1;32m--> 817\u001b[0m     \u001b[38;5;28mself\u001b[39m\u001b[38;5;241m.\u001b[39m__pydantic_validator__\u001b[38;5;241m.\u001b[39mvalidate_assignment(\u001b[38;5;28mself\u001b[39m, name, value)\n\u001b[0;32m    818\u001b[0m \u001b[38;5;28;01melif\u001b[39;00m \u001b[38;5;28mself\u001b[39m\u001b[38;5;241m.\u001b[39mmodel_config\u001b[38;5;241m.\u001b[39mget(\u001b[38;5;124m'\u001b[39m\u001b[38;5;124mextra\u001b[39m\u001b[38;5;124m'\u001b[39m) \u001b[38;5;241m!=\u001b[39m \u001b[38;5;124m'\u001b[39m\u001b[38;5;124mallow\u001b[39m\u001b[38;5;124m'\u001b[39m \u001b[38;5;129;01mand\u001b[39;00m name \u001b[38;5;129;01mnot\u001b[39;00m \u001b[38;5;129;01min\u001b[39;00m \u001b[38;5;28mself\u001b[39m\u001b[38;5;241m.\u001b[39mmodel_fields:\n\u001b[0;32m    819\u001b[0m     \u001b[38;5;66;03m# TODO - matching error\u001b[39;00m\n\u001b[0;32m    820\u001b[0m     \u001b[38;5;28;01mraise\u001b[39;00m \u001b[38;5;167;01mValueError\u001b[39;00m(\u001b[38;5;124mf\u001b[39m\u001b[38;5;124m'\u001b[39m\u001b[38;5;124m\"\u001b[39m\u001b[38;5;132;01m{\u001b[39;00m\u001b[38;5;28mself\u001b[39m\u001b[38;5;241m.\u001b[39m\u001b[38;5;18m__class__\u001b[39m\u001b[38;5;241m.\u001b[39m\u001b[38;5;18m__name__\u001b[39m\u001b[38;5;132;01m}\u001b[39;00m\u001b[38;5;124m\"\u001b[39m\u001b[38;5;124m object has no field \u001b[39m\u001b[38;5;124m\"\u001b[39m\u001b[38;5;132;01m{\u001b[39;00mname\u001b[38;5;132;01m}\u001b[39;00m\u001b[38;5;124m\"\u001b[39m\u001b[38;5;124m'\u001b[39m)\n",
      "\u001b[1;31mValidationError\u001b[0m: 1 validation error for Coin\nstats_obj\n  Input should be a valid dictionary or instance of Stats [type=model_type, input_value='hello', input_type=str]\n    For further information visit https://errors.pydantic.dev/2.7/v/model_type"
     ]
    }
   ],
   "source": [
    "coin.stats_obj = \"hello\""
   ]
  },
  {
   "cell_type": "code",
   "execution_count": null,
   "metadata": {},
   "outputs": [],
   "source": []
  },
  {
   "cell_type": "code",
   "execution_count": 287,
   "metadata": {},
   "outputs": [
    {
     "data": {
      "text/plain": [
       "{'isSuccess': True, 'price': None, 'price_list': [69140.0, 3735.27, 0.16551]}"
      ]
     },
     "execution_count": 287,
     "metadata": {},
     "output_type": "execute_result"
    }
   ],
   "source": [
    "import requests\n",
    "\n",
    "def get_response(method=\"get\", endpoint_method=\"\", params={}, headers={}):\n",
    "    # url = \"http://binance_api:8000/\"\n",
    "    url = \"http://localhost:8000/\"\n",
    "    if endpoint_method != \"\":\n",
    "        url += endpoint_method\n",
    "\n",
    "    if not headers:\n",
    "        headers = {\"accept\": \"application/json\"}\n",
    "\n",
    "    if not params:\n",
    "        params = {}\n",
    "    if method == \"get\":\n",
    "        response = requests.get(url, headers=headers, params=params)\n",
    "    elif method == \"post\":\n",
    "        response = requests.post(url, headers=headers, params=params)\n",
    "    else:\n",
    "        raise ValueError(\"Invalid method\")\n",
    "\n",
    "    # Check if the request was successful\n",
    "    if response.status_code == 200:\n",
    "        return response.json()\n",
    "    else:\n",
    "        raise ValueError(\"Error in response\")\n",
    "\n",
    "\n",
    "def get_coin_price(self):\n",
    "    return get_response(method=\"get\", endpoint_method=\"coinpair_price\", params={\"coin_list\": [\"btc\", \"eth\", \"doge\"]})\n",
    "\n",
    "get_coin_price('btc')"
   ]
  },
  {
   "cell_type": "code",
   "execution_count": null,
   "metadata": {},
   "outputs": [],
   "source": []
  },
  {
   "cell_type": "code",
   "execution_count": 277,
   "metadata": {},
   "outputs": [
    {
     "name": "stdout",
     "output_type": "stream",
     "text": [
      "{\"detail\":\"Either coin_name or coin_list must be provided.\"}\n"
     ]
    }
   ],
   "source": [
    "import requests\n",
    "\n",
    "url = \"http://localhost:8000/coinpair_price/\"\n",
    "\n",
    "payload = {'coin_name': 'btc'}\n",
    "headers = {}\n",
    "\n",
    "response = requests.request(\"GET\", url, headers=headers, data=payload, timeout=400000)\n",
    "\n",
    "print(response.text)\n"
   ]
  },
  {
   "cell_type": "code",
   "execution_count": null,
   "metadata": {},
   "outputs": [],
   "source": []
  },
  {
   "cell_type": "code",
   "execution_count": 1,
   "metadata": {},
   "outputs": [
    {
     "ename": "TypeError",
     "evalue": "<module '__main__'> is a built-in module",
     "output_type": "error",
     "traceback": [
      "\u001b[1;31m---------------------------------------------------------------------------\u001b[0m",
      "\u001b[1;31mTypeError\u001b[0m                                 Traceback (most recent call last)",
      "Cell \u001b[1;32mIn[1], line 3\u001b[0m\n\u001b[0;32m      1\u001b[0m \u001b[38;5;28;01mfrom\u001b[39;00m \u001b[38;5;21;01mtypeguard\u001b[39;00m \u001b[38;5;28;01mimport\u001b[39;00m typechecked\n\u001b[1;32m----> 3\u001b[0m \u001b[38;5;129;43m@typechecked\u001b[39;49m\n\u001b[0;32m      4\u001b[0m \u001b[38;5;28;43;01mdef\u001b[39;49;00m\u001b[43m \u001b[49m\u001b[38;5;21;43madd_numbers\u001b[39;49m\u001b[43m(\u001b[49m\u001b[43ma\u001b[49m\u001b[43m:\u001b[49m\u001b[43m \u001b[49m\u001b[38;5;28;43mint\u001b[39;49m\u001b[43m,\u001b[49m\u001b[43m \u001b[49m\u001b[43mb\u001b[49m\u001b[43m:\u001b[49m\u001b[43m \u001b[49m\u001b[38;5;28;43mint\u001b[39;49m\u001b[43m)\u001b[49m\u001b[43m \u001b[49m\u001b[38;5;241;43m-\u001b[39;49m\u001b[38;5;241;43m>\u001b[39;49m\u001b[43m \u001b[49m\u001b[38;5;28;43mint\u001b[39;49m\u001b[43m:\u001b[49m\n\u001b[0;32m      5\u001b[0m \u001b[43m    \u001b[49m\u001b[38;5;28;43;01mreturn\u001b[39;49;00m\u001b[43m \u001b[49m\u001b[43ma\u001b[49m\u001b[43m \u001b[49m\u001b[38;5;241;43m+\u001b[39;49m\u001b[43m \u001b[49m\u001b[43mb\u001b[49m\n\u001b[0;32m      7\u001b[0m \u001b[38;5;66;03m# Usage\u001b[39;00m\n",
      "File \u001b[1;32m~\\AppData\\Local\\Packages\\PythonSoftwareFoundation.Python.3.11_qbz5n2kfra8p0\\LocalCache\\local-packages\\Python311\\site-packages\\typeguard\\_decorators.py:223\u001b[0m, in \u001b[0;36mtypechecked\u001b[1;34m(target, forward_ref_policy, typecheck_fail_callback, collection_check_strategy, debug_instrumentation)\u001b[0m\n\u001b[0;32m    220\u001b[0m     wrapper_class \u001b[38;5;241m=\u001b[39m target\u001b[38;5;241m.\u001b[39m\u001b[38;5;18m__class__\u001b[39m\n\u001b[0;32m    221\u001b[0m     target \u001b[38;5;241m=\u001b[39m target\u001b[38;5;241m.\u001b[39m\u001b[38;5;18m__func__\u001b[39m\n\u001b[1;32m--> 223\u001b[0m retval \u001b[38;5;241m=\u001b[39m \u001b[43minstrument\u001b[49m\u001b[43m(\u001b[49m\u001b[43mtarget\u001b[49m\u001b[43m)\u001b[49m\n\u001b[0;32m    224\u001b[0m \u001b[38;5;28;01mif\u001b[39;00m \u001b[38;5;28misinstance\u001b[39m(retval, \u001b[38;5;28mstr\u001b[39m):\n\u001b[0;32m    225\u001b[0m     warn(\n\u001b[0;32m    226\u001b[0m         \u001b[38;5;124mf\u001b[39m\u001b[38;5;124m\"\u001b[39m\u001b[38;5;132;01m{\u001b[39;00mretval\u001b[38;5;132;01m}\u001b[39;00m\u001b[38;5;124m -- not typechecking \u001b[39m\u001b[38;5;132;01m{\u001b[39;00mfunction_name(target)\u001b[38;5;132;01m}\u001b[39;00m\u001b[38;5;124m\"\u001b[39m,\n\u001b[0;32m    227\u001b[0m         InstrumentationWarning,\n\u001b[0;32m    228\u001b[0m         stacklevel\u001b[38;5;241m=\u001b[39mget_stacklevel(),\n\u001b[0;32m    229\u001b[0m     )\n",
      "File \u001b[1;32m~\\AppData\\Local\\Packages\\PythonSoftwareFoundation.Python.3.11_qbz5n2kfra8p0\\LocalCache\\local-packages\\Python311\\site-packages\\typeguard\\_decorators.py:71\u001b[0m, in \u001b[0;36minstrument\u001b[1;34m(f)\u001b[0m\n\u001b[0;32m     65\u001b[0m     \u001b[38;5;28;01mreturn\u001b[39;00m (\n\u001b[0;32m     66\u001b[0m         \u001b[38;5;124m\"\u001b[39m\u001b[38;5;124m@typechecked only supports instrumenting functions wrapped with \u001b[39m\u001b[38;5;124m\"\u001b[39m\n\u001b[0;32m     67\u001b[0m         \u001b[38;5;124m\"\u001b[39m\u001b[38;5;124m@classmethod, @staticmethod or @property\u001b[39m\u001b[38;5;124m\"\u001b[39m\n\u001b[0;32m     68\u001b[0m     )\n\u001b[0;32m     70\u001b[0m target_path \u001b[38;5;241m=\u001b[39m [item \u001b[38;5;28;01mfor\u001b[39;00m item \u001b[38;5;129;01min\u001b[39;00m f\u001b[38;5;241m.\u001b[39m\u001b[38;5;18m__qualname__\u001b[39m\u001b[38;5;241m.\u001b[39msplit(\u001b[38;5;124m\"\u001b[39m\u001b[38;5;124m.\u001b[39m\u001b[38;5;124m\"\u001b[39m) \u001b[38;5;28;01mif\u001b[39;00m item \u001b[38;5;241m!=\u001b[39m \u001b[38;5;124m\"\u001b[39m\u001b[38;5;124m<locals>\u001b[39m\u001b[38;5;124m\"\u001b[39m]\n\u001b[1;32m---> 71\u001b[0m module_source \u001b[38;5;241m=\u001b[39m \u001b[43minspect\u001b[49m\u001b[38;5;241;43m.\u001b[39;49m\u001b[43mgetsource\u001b[49m\u001b[43m(\u001b[49m\u001b[43msys\u001b[49m\u001b[38;5;241;43m.\u001b[39;49m\u001b[43mmodules\u001b[49m\u001b[43m[\u001b[49m\u001b[43mf\u001b[49m\u001b[38;5;241;43m.\u001b[39;49m\u001b[38;5;18;43m__module__\u001b[39;49m\u001b[43m]\u001b[49m\u001b[43m)\u001b[49m\n\u001b[0;32m     72\u001b[0m module_ast \u001b[38;5;241m=\u001b[39m ast\u001b[38;5;241m.\u001b[39mparse(module_source)\n\u001b[0;32m     73\u001b[0m instrumentor \u001b[38;5;241m=\u001b[39m TypeguardTransformer(target_path, f\u001b[38;5;241m.\u001b[39m\u001b[38;5;18m__code__\u001b[39m\u001b[38;5;241m.\u001b[39mco_firstlineno)\n",
      "File \u001b[1;32mC:\\Program Files\\WindowsApps\\PythonSoftwareFoundation.Python.3.11_3.11.2032.0_x64__qbz5n2kfra8p0\\Lib\\inspect.py:1262\u001b[0m, in \u001b[0;36mgetsource\u001b[1;34m(object)\u001b[0m\n\u001b[0;32m   1256\u001b[0m \u001b[38;5;28;01mdef\u001b[39;00m \u001b[38;5;21mgetsource\u001b[39m(\u001b[38;5;28mobject\u001b[39m):\n\u001b[0;32m   1257\u001b[0m \u001b[38;5;250m    \u001b[39m\u001b[38;5;124;03m\"\"\"Return the text of the source code for an object.\u001b[39;00m\n\u001b[0;32m   1258\u001b[0m \n\u001b[0;32m   1259\u001b[0m \u001b[38;5;124;03m    The argument may be a module, class, method, function, traceback, frame,\u001b[39;00m\n\u001b[0;32m   1260\u001b[0m \u001b[38;5;124;03m    or code object.  The source code is returned as a single string.  An\u001b[39;00m\n\u001b[0;32m   1261\u001b[0m \u001b[38;5;124;03m    OSError is raised if the source code cannot be retrieved.\"\"\"\u001b[39;00m\n\u001b[1;32m-> 1262\u001b[0m     lines, lnum \u001b[38;5;241m=\u001b[39m \u001b[43mgetsourcelines\u001b[49m\u001b[43m(\u001b[49m\u001b[38;5;28;43mobject\u001b[39;49m\u001b[43m)\u001b[49m\n\u001b[0;32m   1263\u001b[0m     \u001b[38;5;28;01mreturn\u001b[39;00m \u001b[38;5;124m'\u001b[39m\u001b[38;5;124m'\u001b[39m\u001b[38;5;241m.\u001b[39mjoin(lines)\n",
      "File \u001b[1;32mC:\\Program Files\\WindowsApps\\PythonSoftwareFoundation.Python.3.11_3.11.2032.0_x64__qbz5n2kfra8p0\\Lib\\inspect.py:1244\u001b[0m, in \u001b[0;36mgetsourcelines\u001b[1;34m(object)\u001b[0m\n\u001b[0;32m   1236\u001b[0m \u001b[38;5;250m\u001b[39m\u001b[38;5;124;03m\"\"\"Return a list of source lines and starting line number for an object.\u001b[39;00m\n\u001b[0;32m   1237\u001b[0m \n\u001b[0;32m   1238\u001b[0m \u001b[38;5;124;03mThe argument may be a module, class, method, function, traceback, frame,\u001b[39;00m\n\u001b[1;32m   (...)\u001b[0m\n\u001b[0;32m   1241\u001b[0m \u001b[38;5;124;03moriginal source file the first line of code was found.  An OSError is\u001b[39;00m\n\u001b[0;32m   1242\u001b[0m \u001b[38;5;124;03mraised if the source code cannot be retrieved.\"\"\"\u001b[39;00m\n\u001b[0;32m   1243\u001b[0m \u001b[38;5;28mobject\u001b[39m \u001b[38;5;241m=\u001b[39m unwrap(\u001b[38;5;28mobject\u001b[39m)\n\u001b[1;32m-> 1244\u001b[0m lines, lnum \u001b[38;5;241m=\u001b[39m \u001b[43mfindsource\u001b[49m\u001b[43m(\u001b[49m\u001b[38;5;28;43mobject\u001b[39;49m\u001b[43m)\u001b[49m\n\u001b[0;32m   1246\u001b[0m \u001b[38;5;28;01mif\u001b[39;00m istraceback(\u001b[38;5;28mobject\u001b[39m):\n\u001b[0;32m   1247\u001b[0m     \u001b[38;5;28mobject\u001b[39m \u001b[38;5;241m=\u001b[39m \u001b[38;5;28mobject\u001b[39m\u001b[38;5;241m.\u001b[39mtb_frame\n",
      "File \u001b[1;32mC:\\Program Files\\WindowsApps\\PythonSoftwareFoundation.Python.3.11_3.11.2032.0_x64__qbz5n2kfra8p0\\Lib\\inspect.py:1063\u001b[0m, in \u001b[0;36mfindsource\u001b[1;34m(object)\u001b[0m\n\u001b[0;32m   1055\u001b[0m \u001b[38;5;28;01mdef\u001b[39;00m \u001b[38;5;21mfindsource\u001b[39m(\u001b[38;5;28mobject\u001b[39m):\n\u001b[0;32m   1056\u001b[0m \u001b[38;5;250m    \u001b[39m\u001b[38;5;124;03m\"\"\"Return the entire source file and starting line number for an object.\u001b[39;00m\n\u001b[0;32m   1057\u001b[0m \n\u001b[0;32m   1058\u001b[0m \u001b[38;5;124;03m    The argument may be a module, class, method, function, traceback, frame,\u001b[39;00m\n\u001b[0;32m   1059\u001b[0m \u001b[38;5;124;03m    or code object.  The source code is returned as a list of all the lines\u001b[39;00m\n\u001b[0;32m   1060\u001b[0m \u001b[38;5;124;03m    in the file and the line number indexes a line in that list.  An OSError\u001b[39;00m\n\u001b[0;32m   1061\u001b[0m \u001b[38;5;124;03m    is raised if the source code cannot be retrieved.\"\"\"\u001b[39;00m\n\u001b[1;32m-> 1063\u001b[0m     file \u001b[38;5;241m=\u001b[39m \u001b[43mgetsourcefile\u001b[49m\u001b[43m(\u001b[49m\u001b[38;5;28;43mobject\u001b[39;49m\u001b[43m)\u001b[49m\n\u001b[0;32m   1064\u001b[0m     \u001b[38;5;28;01mif\u001b[39;00m file:\n\u001b[0;32m   1065\u001b[0m         \u001b[38;5;66;03m# Invalidate cache if needed.\u001b[39;00m\n\u001b[0;32m   1066\u001b[0m         linecache\u001b[38;5;241m.\u001b[39mcheckcache(file)\n",
      "File \u001b[1;32mC:\\Program Files\\WindowsApps\\PythonSoftwareFoundation.Python.3.11_3.11.2032.0_x64__qbz5n2kfra8p0\\Lib\\inspect.py:940\u001b[0m, in \u001b[0;36mgetsourcefile\u001b[1;34m(object)\u001b[0m\n\u001b[0;32m    936\u001b[0m \u001b[38;5;28;01mdef\u001b[39;00m \u001b[38;5;21mgetsourcefile\u001b[39m(\u001b[38;5;28mobject\u001b[39m):\n\u001b[0;32m    937\u001b[0m \u001b[38;5;250m    \u001b[39m\u001b[38;5;124;03m\"\"\"Return the filename that can be used to locate an object's source.\u001b[39;00m\n\u001b[0;32m    938\u001b[0m \u001b[38;5;124;03m    Return None if no way can be identified to get the source.\u001b[39;00m\n\u001b[0;32m    939\u001b[0m \u001b[38;5;124;03m    \"\"\"\u001b[39;00m\n\u001b[1;32m--> 940\u001b[0m     filename \u001b[38;5;241m=\u001b[39m \u001b[43mgetfile\u001b[49m\u001b[43m(\u001b[49m\u001b[38;5;28;43mobject\u001b[39;49m\u001b[43m)\u001b[49m\n\u001b[0;32m    941\u001b[0m     all_bytecode_suffixes \u001b[38;5;241m=\u001b[39m importlib\u001b[38;5;241m.\u001b[39mmachinery\u001b[38;5;241m.\u001b[39mDEBUG_BYTECODE_SUFFIXES[:]\n\u001b[0;32m    942\u001b[0m     all_bytecode_suffixes \u001b[38;5;241m+\u001b[39m\u001b[38;5;241m=\u001b[39m importlib\u001b[38;5;241m.\u001b[39mmachinery\u001b[38;5;241m.\u001b[39mOPTIMIZED_BYTECODE_SUFFIXES[:]\n",
      "File \u001b[1;32mC:\\Program Files\\WindowsApps\\PythonSoftwareFoundation.Python.3.11_3.11.2032.0_x64__qbz5n2kfra8p0\\Lib\\inspect.py:901\u001b[0m, in \u001b[0;36mgetfile\u001b[1;34m(object)\u001b[0m\n\u001b[0;32m    899\u001b[0m     \u001b[38;5;28;01mif\u001b[39;00m \u001b[38;5;28mgetattr\u001b[39m(\u001b[38;5;28mobject\u001b[39m, \u001b[38;5;124m'\u001b[39m\u001b[38;5;124m__file__\u001b[39m\u001b[38;5;124m'\u001b[39m, \u001b[38;5;28;01mNone\u001b[39;00m):\n\u001b[0;32m    900\u001b[0m         \u001b[38;5;28;01mreturn\u001b[39;00m \u001b[38;5;28mobject\u001b[39m\u001b[38;5;241m.\u001b[39m\u001b[38;5;18m__file__\u001b[39m\n\u001b[1;32m--> 901\u001b[0m     \u001b[38;5;28;01mraise\u001b[39;00m \u001b[38;5;167;01mTypeError\u001b[39;00m(\u001b[38;5;124m'\u001b[39m\u001b[38;5;132;01m{!r}\u001b[39;00m\u001b[38;5;124m is a built-in module\u001b[39m\u001b[38;5;124m'\u001b[39m\u001b[38;5;241m.\u001b[39mformat(\u001b[38;5;28mobject\u001b[39m))\n\u001b[0;32m    902\u001b[0m \u001b[38;5;28;01mif\u001b[39;00m isclass(\u001b[38;5;28mobject\u001b[39m):\n\u001b[0;32m    903\u001b[0m     \u001b[38;5;28;01mif\u001b[39;00m \u001b[38;5;28mhasattr\u001b[39m(\u001b[38;5;28mobject\u001b[39m, \u001b[38;5;124m'\u001b[39m\u001b[38;5;124m__module__\u001b[39m\u001b[38;5;124m'\u001b[39m):\n",
      "\u001b[1;31mTypeError\u001b[0m: <module '__main__'> is a built-in module"
     ]
    }
   ],
   "source": [
    "from typeguard import typechecked\n",
    "\n",
    "@typechecked\n",
    "def add_numbers(a: int, b: int) -> int:\n",
    "    return a + b\n",
    "\n",
    "# Usage\n",
    "add_numbers(1, 2)  # Works fine\n",
    "# add_numbers(1, 'two')  # Raises TypeError at runtime\n"
   ]
  },
  {
   "cell_type": "code",
   "execution_count": null,
   "metadata": {},
   "outputs": [],
   "source": []
  },
  {
   "cell_type": "code",
   "execution_count": 17,
   "metadata": {},
   "outputs": [
    {
     "ename": "NameError",
     "evalue": "name 'cls' is not defined",
     "output_type": "error",
     "traceback": [
      "\u001b[1;31m---------------------------------------------------------------------------\u001b[0m",
      "\u001b[1;31mNameError\u001b[0m                                 Traceback (most recent call last)",
      "Cell \u001b[1;32mIn[17], line 26\u001b[0m\n\u001b[0;32m     21\u001b[0m     \u001b[38;5;129m@field_validator\u001b[39m(\u001b[38;5;124m'\u001b[39m\u001b[38;5;124mvolume\u001b[39m\u001b[38;5;124m'\u001b[39m)\n\u001b[0;32m     22\u001b[0m     \u001b[38;5;28;01mdef\u001b[39;00m \u001b[38;5;21mvolume_must_be_positive\u001b[39m(\u001b[38;5;28mcls\u001b[39m, value):\n\u001b[0;32m     23\u001b[0m         \u001b[38;5;28;01mreturn\u001b[39;00m \u001b[38;5;241m562\u001b[39m\n\u001b[1;32m---> 26\u001b[0m \u001b[38;5;28;43;01mclass\u001b[39;49;00m\u001b[43m \u001b[49m\u001b[38;5;21;43;01mCoin\u001b[39;49;00m\u001b[43m(\u001b[49m\u001b[43mBaseModel\u001b[49m\u001b[43m)\u001b[49m\u001b[43m:\u001b[49m\n\u001b[0;32m     27\u001b[0m \u001b[43m    \u001b[49m\u001b[43msymbol\u001b[49m\u001b[43m:\u001b[49m\u001b[43m \u001b[49m\u001b[38;5;28;43mstr\u001b[39;49m\n\u001b[0;32m     28\u001b[0m \u001b[43m    \u001b[49m\u001b[43mstats_obj\u001b[49m\u001b[43m:\u001b[49m\u001b[43m \u001b[49m\u001b[43mStats\u001b[49m\u001b[43m \u001b[49m\u001b[38;5;241;43m=\u001b[39;49m\u001b[43m \u001b[49m\u001b[43mStats\u001b[49m\u001b[43m(\u001b[49m\u001b[43msymbol\u001b[49m\u001b[38;5;241;43m=\u001b[39;49m\u001b[38;5;28;43mcls\u001b[39;49m\u001b[38;5;241;43m.\u001b[39;49m\u001b[43msymbol\u001b[49m\u001b[43m,\u001b[49m\u001b[43m \u001b[49m\u001b[43mmarket_cap\u001b[49m\u001b[38;5;241;43m=\u001b[39;49m\u001b[38;5;241;43m0\u001b[39;49m\u001b[43m,\u001b[49m\u001b[43m \u001b[49m\u001b[43mprice\u001b[49m\u001b[38;5;241;43m=\u001b[39;49m\u001b[38;5;241;43m0\u001b[39;49m\u001b[43m,\u001b[49m\u001b[43m \u001b[49m\u001b[43mvolume\u001b[49m\u001b[38;5;241;43m=\u001b[39;49m\u001b[38;5;241;43m0\u001b[39;49m\u001b[43m)\u001b[49m\n",
      "Cell \u001b[1;32mIn[17], line 28\u001b[0m, in \u001b[0;36mCoin\u001b[1;34m()\u001b[0m\n\u001b[0;32m     26\u001b[0m \u001b[38;5;28;01mclass\u001b[39;00m \u001b[38;5;21;01mCoin\u001b[39;00m(BaseModel):\n\u001b[0;32m     27\u001b[0m     symbol: \u001b[38;5;28mstr\u001b[39m\n\u001b[1;32m---> 28\u001b[0m     stats_obj: Stats \u001b[38;5;241m=\u001b[39m Stats(symbol\u001b[38;5;241m=\u001b[39m\u001b[38;5;28;43mcls\u001b[39;49m\u001b[38;5;241m.\u001b[39msymbol, market_cap\u001b[38;5;241m=\u001b[39m\u001b[38;5;241m0\u001b[39m, price\u001b[38;5;241m=\u001b[39m\u001b[38;5;241m0\u001b[39m, volume\u001b[38;5;241m=\u001b[39m\u001b[38;5;241m0\u001b[39m)\n\u001b[0;32m     30\u001b[0m     \u001b[38;5;129m@field_validator\u001b[39m(\u001b[38;5;124m'\u001b[39m\u001b[38;5;124msymbol\u001b[39m\u001b[38;5;124m'\u001b[39m)\n\u001b[0;32m     31\u001b[0m     \u001b[38;5;28;01mdef\u001b[39;00m \u001b[38;5;21msymbol_must_be_positive\u001b[39m(\u001b[38;5;28mcls\u001b[39m, value):\n\u001b[0;32m     32\u001b[0m         \u001b[38;5;28;01mif\u001b[39;00m value \u001b[38;5;129;01mnot\u001b[39;00m \u001b[38;5;129;01min\u001b[39;00m [\u001b[38;5;124m'\u001b[39m\u001b[38;5;124mBTC\u001b[39m\u001b[38;5;124m'\u001b[39m, \u001b[38;5;124m'\u001b[39m\u001b[38;5;124mETH\u001b[39m\u001b[38;5;124m'\u001b[39m]:\n",
      "\u001b[1;31mNameError\u001b[0m: name 'cls' is not defined"
     ]
    }
   ],
   "source": [
    "from pydantic import BaseModel, field_validator\n",
    "\n",
    "class Stats(BaseModel):\n",
    "    symbol: str = None\n",
    "    market_cap: float = 0\n",
    "    price: float = 0\n",
    "    volume: float = 0\n",
    "\n",
    "    @field_validator('symbol')\n",
    "    def symbol_must_be_positive(cls, value):\n",
    "        return 'BTC'\n",
    "\n",
    "    @field_validator('market_cap')\n",
    "    def market_cap_must_be_positive(cls, value):\n",
    "        return 10000000\n",
    "\n",
    "    @field_validator('price')\n",
    "    def price_must_be_positive(cls, value):\n",
    "        return 1.2\n",
    "\n",
    "    @field_validator('volume')\n",
    "    def volume_must_be_positive(cls, value):\n",
    "        return 562\n",
    "\n",
    "\n",
    "class Coin(BaseModel):\n",
    "    symbol: str\n",
    "    stats_obj: Stats = Stats(symbol=cls.symbol, market_cap=0, price=0, volume=0)\n",
    "\n",
    "    @field_validator('symbol')\n",
    "    def symbol_must_be_positive(cls, value):\n",
    "        if value not in ['BTC', 'ETH']:\n",
    "            raise ValueError('Symbol must be BTC')\n",
    "\n",
    "obj = Coin()"
   ]
  },
  {
   "cell_type": "code",
   "execution_count": 14,
   "metadata": {},
   "outputs": [
    {
     "data": {
      "text/plain": [
       "Coin(symbol='', stats_obj=Stats(market_cap=10000000, price=1.2, volume=562))"
      ]
     },
     "execution_count": 14,
     "metadata": {},
     "output_type": "execute_result"
    }
   ],
   "source": [
    "obj"
   ]
  },
  {
   "cell_type": "code",
   "execution_count": 169,
   "metadata": {},
   "outputs": [
    {
     "name": "stdout",
     "output_type": "stream",
     "text": [
      "Refreshing stats\n",
      "BTC\n",
      "Getting market cap BTC\n",
      "Getting price BTC\n",
      "Getting volume BTC\n",
      "symbol='BTC' stats_obj=Stats(symbol='BTC', market_cap=typing.Annotated[float, 'apple'], price=1.2, volume=6365555)\n"
     ]
    }
   ],
   "source": [
    "from pydantic import BaseModel, validator, field_validator, Field, root_validator, model_validator\n",
    "from typing import Any\n",
    "from typing import List, Annotated\n",
    "\n",
    "def get_market_cap(symbol: str) -> float:\n",
    "    return 10000000\n",
    "\n",
    "\n",
    "class Stats(BaseModel):\n",
    "    symbol: str\n",
    "    market_cap: float = None\n",
    "    price: float = None\n",
    "    volume: float = None\n",
    "\n",
    "    def get_market_cap(self):\n",
    "        return 10000000\n",
    "\n",
    "    def get_price(self):\n",
    "        print(\"Getting price\", self.symbol)\n",
    "        return 1.2\n",
    "\n",
    "    def get_volume(self):\n",
    "        print(\"Getting volume\", self.symbol)\n",
    "        return 6365555\n",
    "\n",
    "    def refresh(self):\n",
    "        print(\"Refreshing stats\")\n",
    "        print(self.symbol)\n",
    "        self.market_cap = self.get_market_cap()\n",
    "        self.price = self.get_price()\n",
    "        self.volume = self.get_volume()\n",
    "\n",
    "    def __init__(self, **data):\n",
    "        super().__init__(**data)\n",
    "        self.refresh()\n",
    "\n",
    "\n",
    "class Coin(BaseModel):\n",
    "    symbol: str\n",
    "    stats_obj: Stats | None = None\n",
    "\n",
    "    @field_validator(\"symbol\")\n",
    "    def symbol_must_be_btc_or_eth(cls, value):\n",
    "        if value not in [\"BTC\", \"ETH\"]:\n",
    "            raise ValueError(\"Symbol must be either BTC or ETH\")\n",
    "        return value\n",
    "\n",
    "    @field_validator(\"stats_obj\", mode=\"after\")\n",
    "    def create_stats_obj(cls, v: Any, values: dict):\n",
    "        return Stats(symbol=values.data[\"symbol\"])\n",
    "\n",
    "\n",
    "coin = Coin(symbol=\"BTC\", stats_obj=None)\n",
    "print(coin)\n"
   ]
  },
  {
   "cell_type": "code",
   "execution_count": 170,
   "metadata": {},
   "outputs": [
    {
     "data": {
      "text/plain": [
       "Coin(symbol='BTC', stats_obj=Stats(symbol='BTC', market_cap=typing.Annotated[float, 'apple'], price=1.2, volume=6365555))"
      ]
     },
     "execution_count": 170,
     "metadata": {},
     "output_type": "execute_result"
    }
   ],
   "source": [
    "coin"
   ]
  },
  {
   "cell_type": "code",
   "execution_count": 154,
   "metadata": {},
   "outputs": [
    {
     "name": "stdout",
     "output_type": "stream",
     "text": [
      "Refreshing stats\n",
      "BTC\n"
     ]
    }
   ],
   "source": [
    "coin.stats_obj.refresh()"
   ]
  },
  {
   "cell_type": "code",
   "execution_count": 155,
   "metadata": {},
   "outputs": [
    {
     "data": {
      "text/plain": [
       "Coin(symbol='BTC', stats_obj=Stats(symbol='BTC', market_cap=787, price=898, volume=696))"
      ]
     },
     "execution_count": 155,
     "metadata": {},
     "output_type": "execute_result"
    }
   ],
   "source": [
    "coin"
   ]
  },
  {
   "cell_type": "code",
   "execution_count": null,
   "metadata": {},
   "outputs": [],
   "source": []
  },
  {
   "cell_type": "code",
   "execution_count": null,
   "metadata": {},
   "outputs": [],
   "source": []
  },
  {
   "cell_type": "code",
   "execution_count": null,
   "metadata": {},
   "outputs": [],
   "source": []
  },
  {
   "cell_type": "code",
   "execution_count": null,
   "metadata": {},
   "outputs": [],
   "source": []
  },
  {
   "cell_type": "code",
   "execution_count": 70,
   "metadata": {},
   "outputs": [
    {
     "name": "stdout",
     "output_type": "stream",
     "text": [
      "x=5 y=0\n"
     ]
    }
   ],
   "source": [
    "from pydantic import BaseModel, field_validator, root_validator, model_validator\n",
    "\n",
    "class ExampleModel(BaseModel):\n",
    "    x: int\n",
    "    y: int = 0  # Dependent attribute\n",
    "\n",
    "    # @model_validator(mode='after')\n",
    "    def verify_square(self):\n",
    "        if self.x != self.y:\n",
    "            self.y = self.x\n",
    "        return self\n",
    "\n",
    "\n",
    "# Usage\n",
    "example = ExampleModel(x=5)\n",
    "print(example)  # Output will show y as 10\n"
   ]
  },
  {
   "cell_type": "code",
   "execution_count": 71,
   "metadata": {},
   "outputs": [],
   "source": [
    "example.x = 10"
   ]
  },
  {
   "cell_type": "code",
   "execution_count": 73,
   "metadata": {},
   "outputs": [
    {
     "data": {
      "text/plain": [
       "ExampleModel(x=10, y=10)"
      ]
     },
     "execution_count": 73,
     "metadata": {},
     "output_type": "execute_result"
    }
   ],
   "source": [
    "example.verify_square()"
   ]
  },
  {
   "cell_type": "code",
   "execution_count": 74,
   "metadata": {},
   "outputs": [
    {
     "data": {
      "text/plain": [
       "ExampleModel(x=10, y=10)"
      ]
     },
     "execution_count": 74,
     "metadata": {},
     "output_type": "execute_result"
    },
    {
     "ename": "",
     "evalue": "",
     "output_type": "error",
     "traceback": [
      "\u001b[1;31mThe Kernel crashed while executing code in the current cell or a previous cell. \n",
      "\u001b[1;31mPlease review the code in the cell(s) to identify a possible cause of the failure. \n",
      "\u001b[1;31mClick <a href='https://aka.ms/vscodeJupyterKernelCrash'>here</a> for more info. \n",
      "\u001b[1;31mView Jupyter <a href='command:jupyter.viewOutput'>log</a> for further details."
     ]
    }
   ],
   "source": [
    "example"
   ]
  },
  {
   "cell_type": "code",
   "execution_count": null,
   "metadata": {},
   "outputs": [],
   "source": []
  },
  {
   "cell_type": "code",
   "execution_count": 54,
   "metadata": {},
   "outputs": [
    {
     "name": "stdout",
     "output_type": "stream",
     "text": [
      "Collecting rx\n",
      "  Obtaining dependency information for rx from https://files.pythonhosted.org/packages/e2/a9/efeaeca4928a9a56d04d609b5730994d610c82cf4d9dd7aa173e6ef4233e/Rx-3.2.0-py3-none-any.whl.metadata\n",
      "  Downloading Rx-3.2.0-py3-none-any.whl.metadata (4.6 kB)\n",
      "Downloading Rx-3.2.0-py3-none-any.whl (199 kB)\n",
      "   ---------------------------------------- 0.0/199.2 kB ? eta -:--:--\n",
      "   ---------------------------------------- 0.0/199.2 kB ? eta -:--:--\n",
      "   -- ------------------------------------- 10.2/199.2 kB ? eta -:--:--\n",
      "   -------- ------------------------------ 41.0/199.2 kB 393.8 kB/s eta 0:00:01\n",
      "   ------------ -------------------------- 61.4/199.2 kB 550.5 kB/s eta 0:00:01\n",
      "   ---------------------------------------- 199.2/199.2 kB 1.1 MB/s eta 0:00:00\n",
      "Installing collected packages: rx\n",
      "Successfully installed rx-3.2.0\n",
      "Note: you may need to restart the kernel to use updated packages.\n"
     ]
    },
    {
     "name": "stderr",
     "output_type": "stream",
     "text": [
      "\n",
      "[notice] A new release of pip is available: 23.2.1 -> 24.0\n",
      "[notice] To update, run: C:\\Users\\sudhi\\AppData\\Local\\Microsoft\\WindowsApps\\PythonSoftwareFoundation.Python.3.11_qbz5n2kfra8p0\\python.exe -m pip install --upgrade pip\n"
     ]
    }
   ],
   "source": [
    "pip install rx"
   ]
  },
  {
   "cell_type": "code",
   "execution_count": 55,
   "metadata": {},
   "outputs": [
    {
     "name": "stdout",
     "output_type": "stream",
     "text": [
      "Squared: 4\n",
      "Cubed: 8\n",
      "Squared: 9\n",
      "Cubed: 27\n"
     ]
    }
   ],
   "source": [
    "import rx\n",
    "from rx import operators as ops\n",
    "\n",
    "class RxReactiveModel:\n",
    "    def __init__(self):\n",
    "        self._base_subject = rx.subject.ReplaySubject(1)\n",
    "        self.squared = self._base_subject.pipe(ops.map(lambda x: x**2))\n",
    "        self.cubed = self._base_subject.pipe(ops.map(lambda x: x**3))\n",
    "\n",
    "    def update_base(self, value):\n",
    "        self._base_subject.on_next(value)\n",
    "\n",
    "# Usage\n",
    "model = RxReactiveModel()\n",
    "\n",
    "model.squared.subscribe(lambda x: print(f\"Squared: {x}\"))\n",
    "model.cubed.subscribe(lambda x: print(f\"Cubed: {x}\"))\n",
    "\n",
    "model.update_base(2)\n",
    "model.update_base(3)\n"
   ]
  },
  {
   "cell_type": "code",
   "execution_count": 56,
   "metadata": {},
   "outputs": [
    {
     "name": "stdout",
     "output_type": "stream",
     "text": [
      "Squared: 100\n",
      "Cubed: 1000\n"
     ]
    }
   ],
   "source": [
    "model.update_base(10)"
   ]
  },
  {
   "cell_type": "code",
   "execution_count": 52,
   "metadata": {},
   "outputs": [
    {
     "data": {
      "text/plain": [
       "{'x': 15, 'y': 0}"
      ]
     },
     "execution_count": 52,
     "metadata": {},
     "output_type": "execute_result"
    }
   ],
   "source": [
    "example.__dict__"
   ]
  },
  {
   "cell_type": "code",
   "execution_count": null,
   "metadata": {},
   "outputs": [],
   "source": []
  },
  {
   "cell_type": "code",
   "execution_count": 7,
   "metadata": {},
   "outputs": [
    {
     "data": {
      "text/plain": [
       "{'transaction_list': [{'transaction_id': '1',\n",
       "   'transaction_date': '2021-10-10',\n",
       "   'transaction_amount': 1000}],\n",
       " 'isSuccess': True,\n",
       " 'message': 'Success',\n",
       " 'error': ''}"
      ]
     },
     "execution_count": 7,
     "metadata": {},
     "output_type": "execute_result"
    }
   ],
   "source": [
    "obj = DBSyncResponse(\n",
    "    transaction_list=[\n",
    "        {\n",
    "            \"transaction_id\": \"1\",\n",
    "            \"transaction_date\": \"2021-10-10\",\n",
    "            \"transaction_amount\": 1000,\n",
    "        }\n",
    "    ],\n",
    "    isSuccess=True,\n",
    "    message=\"Success\",\n",
    "    error=\"\",\n",
    ")\n",
    "\n",
    "DBSyncResponse(\n",
    "    transaction_list=[\n",
    "        {\n",
    "            \"transaction_id\": \"1\",\n",
    "            \"transaction_date\": \"2021-10-10\",\n",
    "            \"transaction_amount\": 1000,\n",
    "        }\n",
    "    ],\n",
    "    isSuccess=True,\n",
    "    message=\"Success\",\n",
    "    error=\"\",\n",
    ").model_dump(mode=\"json\")"
   ]
  },
  {
   "cell_type": "code",
   "execution_count": 8,
   "metadata": {},
   "outputs": [
    {
     "data": {
      "text/plain": [
       "{'transaction_list': [{'transaction_id': '1',\n",
       "   'transaction_date': '2021-10-10',\n",
       "   'transaction_amount': 1000}],\n",
       " 'isSuccess': True,\n",
       " 'message': 'Success',\n",
       " 'error': ''}"
      ]
     },
     "execution_count": 8,
     "metadata": {},
     "output_type": "execute_result"
    }
   ],
   "source": [
    "DBSyncResponse(\n",
    "    transaction_list=[\n",
    "        {\n",
    "            \"transaction_id\": \"1\",\n",
    "            \"transaction_date\": \"2021-10-10\",\n",
    "            \"transaction_amount\": 1000,\n",
    "        }\n",
    "    ],\n",
    "    isSuccess=True,\n",
    "    message=\"Success\",\n",
    "    error=\"\",\n",
    ").model_dump(mode=\"json\")"
   ]
  },
  {
   "cell_type": "code",
   "execution_count": null,
   "metadata": {},
   "outputs": [],
   "source": []
  },
  {
   "cell_type": "code",
   "execution_count": 4,
   "metadata": {},
   "outputs": [
    {
     "name": "stdout",
     "output_type": "stream",
     "text": [
      "Status Code: 400\n",
      "Response Body: {'detail': \"1 validation error for DBSyncRequest\\ntransaction_list\\n  Value error, Columns missing in the transaction list: {'time', 'timestamp', 'month', 'usdt_equivalent', 'order_id', 'quote_id', 'coin', 'miscellaneous', 'buy_sell', 'year', 'day', 'order_status', 'trade_type', 'automatically_added', 'coin_amount', 'timezone', 'conversion_ratio'} [type=value_error, input_value=[{'name': 'sudhir'}], input_type=list]\\n    For further information visit https://errors.pydantic.dev/2.7/v/value_error\"}\n"
     ]
    }
   ],
   "source": [
    "import requests\n",
    "import json\n",
    "\n",
    "# Define the URL for the request\n",
    "url = 'http://127.0.0.1:8001/binanalyzer_database/sync_database'\n",
    "\n",
    "# Define the headers to be sent with the request\n",
    "headers = {\n",
    "    'Accept': 'application/json',\n",
    "    'Content-Type': 'application/json'\n",
    "}\n",
    "\n",
    "# Define the payload (data) to be sent in JSON format\n",
    "data = json.dumps([\n",
    "    {\"name\": \"sudhir\"}\n",
    "])\n",
    "\n",
    "# Make the POST request and store the response\n",
    "response = requests.post(url, headers=headers, data=data)\n",
    "\n",
    "# Print the status code and the content of the response\n",
    "print(\"Status Code:\", response.status_code)\n",
    "print(\"Response Body:\", response.json())\n"
   ]
  }
 ],
 "metadata": {
  "kernelspec": {
   "display_name": "Python 3",
   "language": "python",
   "name": "python3"
  },
  "language_info": {
   "codemirror_mode": {
    "name": "ipython",
    "version": 3
   },
   "file_extension": ".py",
   "mimetype": "text/x-python",
   "name": "python",
   "nbconvert_exporter": "python",
   "pygments_lexer": "ipython3",
   "version": "3.11.4"
  }
 },
 "nbformat": 4,
 "nbformat_minor": 2
}
