{
 "cells": [
  {
   "cell_type": "code",
   "execution_count": 1,
   "metadata": {},
   "outputs": [],
   "source": [
    "from pydantic import BaseModel, Field, field_validator\n",
    "from typing import Optional, List, Dict, Any\n",
    "\n",
    "\n",
    "class DBSyncResponse(BaseModel):\n",
    "    transaction_list: Optional[List[dict[str, Any]]] = Field(\n",
    "        ..., description=\"List of transactions to sync\"\n",
    "    )\n",
    "    isSuccess: bool\n",
    "    message: Optional[str] = \"\"\n",
    "    error: Optional[str] = \"\"\n",
    "\n",
    "\n",
    "# obj = DBSyncResponse(isSuccess=True, message=\"Success\")\n"
   ]
  },
  {
   "cell_type": "code",
   "execution_count": 7,
   "metadata": {},
   "outputs": [
    {
     "data": {
      "text/plain": [
       "{'transaction_list': [{'transaction_id': '1',\n",
       "   'transaction_date': '2021-10-10',\n",
       "   'transaction_amount': 1000}],\n",
       " 'isSuccess': True,\n",
       " 'message': 'Success',\n",
       " 'error': ''}"
      ]
     },
     "execution_count": 7,
     "metadata": {},
     "output_type": "execute_result"
    }
   ],
   "source": [
    "obj = DBSyncResponse(\n",
    "    transaction_list=[\n",
    "        {\n",
    "            \"transaction_id\": \"1\",\n",
    "            \"transaction_date\": \"2021-10-10\",\n",
    "            \"transaction_amount\": 1000,\n",
    "        }\n",
    "    ],\n",
    "    isSuccess=True,\n",
    "    message=\"Success\",\n",
    "    error=\"\",\n",
    ")\n",
    "\n",
    "DBSyncResponse(\n",
    "    transaction_list=[\n",
    "        {\n",
    "            \"transaction_id\": \"1\",\n",
    "            \"transaction_date\": \"2021-10-10\",\n",
    "            \"transaction_amount\": 1000,\n",
    "        }\n",
    "    ],\n",
    "    isSuccess=True,\n",
    "    message=\"Success\",\n",
    "    error=\"\",\n",
    ").model_dump(mode=\"json\")"
   ]
  },
  {
   "cell_type": "code",
   "execution_count": 8,
   "metadata": {},
   "outputs": [
    {
     "data": {
      "text/plain": [
       "{'transaction_list': [{'transaction_id': '1',\n",
       "   'transaction_date': '2021-10-10',\n",
       "   'transaction_amount': 1000}],\n",
       " 'isSuccess': True,\n",
       " 'message': 'Success',\n",
       " 'error': ''}"
      ]
     },
     "execution_count": 8,
     "metadata": {},
     "output_type": "execute_result"
    }
   ],
   "source": [
    "DBSyncResponse(\n",
    "    transaction_list=[\n",
    "        {\n",
    "            \"transaction_id\": \"1\",\n",
    "            \"transaction_date\": \"2021-10-10\",\n",
    "            \"transaction_amount\": 1000,\n",
    "        }\n",
    "    ],\n",
    "    isSuccess=True,\n",
    "    message=\"Success\",\n",
    "    error=\"\",\n",
    ").model_dump(mode=\"json\")"
   ]
  },
  {
   "cell_type": "code",
   "execution_count": null,
   "metadata": {},
   "outputs": [],
   "source": []
  },
  {
   "cell_type": "code",
   "execution_count": 4,
   "metadata": {},
   "outputs": [
    {
     "name": "stdout",
     "output_type": "stream",
     "text": [
      "Status Code: 400\n",
      "Response Body: {'detail': \"1 validation error for DBSyncRequest\\ntransaction_list\\n  Value error, Columns missing in the transaction list: {'time', 'timestamp', 'month', 'usdt_equivalent', 'order_id', 'quote_id', 'coin', 'miscellaneous', 'buy_sell', 'year', 'day', 'order_status', 'trade_type', 'automatically_added', 'coin_amount', 'timezone', 'conversion_ratio'} [type=value_error, input_value=[{'name': 'sudhir'}], input_type=list]\\n    For further information visit https://errors.pydantic.dev/2.7/v/value_error\"}\n"
     ]
    }
   ],
   "source": [
    "import requests\n",
    "import json\n",
    "\n",
    "# Define the URL for the request\n",
    "url = 'http://127.0.0.1:8001/binanalyzer_database/sync_database'\n",
    "\n",
    "# Define the headers to be sent with the request\n",
    "headers = {\n",
    "    'Accept': 'application/json',\n",
    "    'Content-Type': 'application/json'\n",
    "}\n",
    "\n",
    "# Define the payload (data) to be sent in JSON format\n",
    "data = json.dumps([\n",
    "    {\"name\": \"sudhir\"}\n",
    "])\n",
    "\n",
    "# Make the POST request and store the response\n",
    "response = requests.post(url, headers=headers, data=data)\n",
    "\n",
    "# Print the status code and the content of the response\n",
    "print(\"Status Code:\", response.status_code)\n",
    "print(\"Response Body:\", response.json())\n"
   ]
  }
 ],
 "metadata": {
  "kernelspec": {
   "display_name": "Python 3",
   "language": "python",
   "name": "python3"
  },
  "language_info": {
   "codemirror_mode": {
    "name": "ipython",
    "version": 3
   },
   "file_extension": ".py",
   "mimetype": "text/x-python",
   "name": "python",
   "nbconvert_exporter": "python",
   "pygments_lexer": "ipython3",
   "version": "3.11.7"
  }
 },
 "nbformat": 4,
 "nbformat_minor": 2
}
